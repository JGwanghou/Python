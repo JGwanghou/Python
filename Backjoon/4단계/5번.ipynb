{
 "cells": [
  {
   "cell_type": "code",
   "execution_count": 4,
   "metadata": {},
   "outputs": [
    {
     "data": {
      "text/plain": [
       "'\\n날짜 : 2023/01/06\\n이름 : 조광호\\n내용 : 백준 4단계 5번\\n'"
      ]
     },
     "execution_count": 4,
     "metadata": {},
     "output_type": "execute_result"
    }
   ],
   "source": [
    "\"\"\"\n",
    "날짜 : 2023/01/06\n",
    "이름 : 조광호\n",
    "내용 : 백준 4단계 5번\n",
    "\"\"\""
   ]
  },
  {
   "cell_type": "code",
   "execution_count": 1,
   "metadata": {},
   "outputs": [
    {
     "name": "stdout",
     "output_type": "stream",
     "text": [
      "2\n",
      "8\n"
     ]
    }
   ],
   "source": [
    "# 30번 까지 나열\n",
    "students = [i for i in range(1,31)]\n",
    "# 입력: 28줄로 28명 출석번호, 중복X\n",
    "for _ in range(1,29):\n",
    "    num = int(input())\n",
    "    students.remove(num)\n",
    "print(min(students))\n",
    "print(max(students))\n",
    "# 출력: 첫번째 줄, 제출하지 않은 출석번호 중 가장 작은 것\n",
    "#       두번째 줄, 미제출 다음 출석번호\n",
    "\n"
   ]
  }
 ],
 "metadata": {
  "kernelspec": {
   "display_name": "Python 3",
   "language": "python",
   "name": "python3"
  },
  "language_info": {
   "codemirror_mode": {
    "name": "ipython",
    "version": 3
   },
   "file_extension": ".py",
   "mimetype": "text/x-python",
   "name": "python",
   "nbconvert_exporter": "python",
   "pygments_lexer": "ipython3",
   "version": "3.11.1"
  },
  "orig_nbformat": 4,
  "vscode": {
   "interpreter": {
    "hash": "da5d8e0bf2691f2d2ed59143106c378b2c2455495724f71e365811448bbd3c35"
   }
  }
 },
 "nbformat": 4,
 "nbformat_minor": 2
}
