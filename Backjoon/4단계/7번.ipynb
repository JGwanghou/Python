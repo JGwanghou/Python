{
 "cells": [
  {
   "cell_type": "code",
   "execution_count": 1,
   "metadata": {},
   "outputs": [
    {
     "data": {
      "text/plain": [
       "'\\n날짜: 2023/01/12\\n이름: 조광호\\n내용: 백준 4단계 7번\\n'"
      ]
     },
     "execution_count": 1,
     "metadata": {},
     "output_type": "execute_result"
    }
   ],
   "source": [
    "\"\"\"\n",
    "날짜: 2023/01/12\n",
    "이름: 조광호\n",
    "내용: 백준 4단계 7번\n",
    "\"\"\""
   ]
  },
  {
   "cell_type": "code",
   "execution_count": 7,
   "metadata": {},
   "outputs": [
    {
     "name": "stdout",
     "output_type": "stream",
     "text": [
      "75.0\n"
     ]
    }
   ],
   "source": [
    "\n",
    "# max() 사용할 시 list, tuple, '문자열' 사용\n",
    "# num1, num2 = int(input()) 사용불가 map 사용\n",
    "\n",
    "n = int(input())\n",
    "test_list = list(map(int, input().split()))\n",
    "max_score = max(test_list)\n",
    "\n",
    "new_list = []\n",
    "for score in test_list:\n",
    "    new_list.append(score/max_score * 100)\n",
    "\n",
    "avg = sum(new_list)/n\n",
    "print(avg)\n",
    "   \n"
   ]
  }
 ],
 "metadata": {
  "kernelspec": {
   "display_name": "Python 3",
   "language": "python",
   "name": "python3"
  },
  "language_info": {
   "codemirror_mode": {
    "name": "ipython",
    "version": 3
   },
   "file_extension": ".py",
   "mimetype": "text/x-python",
   "name": "python",
   "nbconvert_exporter": "python",
   "pygments_lexer": "ipython3",
   "version": "3.10.8"
  },
  "orig_nbformat": 4,
  "vscode": {
   "interpreter": {
    "hash": "3b7e9cb8e453d6cda0fe8c8dd13f891a1f09162f0e7c66ffeae7751a7aecf00d"
   }
  }
 },
 "nbformat": 4,
 "nbformat_minor": 2
}
