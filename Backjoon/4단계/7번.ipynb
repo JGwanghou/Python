{
 "cells": [
  {
   "cell_type": "code",
   "execution_count": 1,
   "metadata": {},
   "outputs": [
    {
     "data": {
      "text/plain": [
       "'\\n날짜: 2023/01/12\\n이름: 조광호\\n내용: 백준 4단계 7번\\n'"
      ]
     },
     "execution_count": 1,
     "metadata": {},
     "output_type": "execute_result"
    }
   ],
   "source": [
    "\"\"\"\n",
    "날짜: 2023/01/12\n",
    "이름: 조광호\n",
    "내용: 백준 4단계 7번\n",
    "\"\"\""
   ]
  },
  {
   "cell_type": "code",
   "execution_count": 24,
   "metadata": {},
   "outputs": [
    {
     "name": "stdout",
     "output_type": "stream",
     "text": [
      "75.0\n"
     ]
    }
   ],
   "source": [
    "\n",
    "# max 사용할 시 list,tuple, 문자열 사용\n",
    "# num1, num2 = int(input()) 사용불가 map 사용\n",
    "n = int(input()) # 과목 수\n",
    "test_list = list(map(int, input().split())) # 점수들\n",
    "max_score = max(test_list) # 가장 높은 점수\n",
    "\n",
    "new_list = []\n",
    "for score in test_list:\n",
    "    new_list.append(score/max_score*100)\n",
    "avg = sum(new_list)/n\n",
    "print(avg)\n",
    "\n"
   ]
  }
 ],
 "metadata": {
  "kernelspec": {
   "display_name": "Python 3",
   "language": "python",
   "name": "python3"
  },
  "language_info": {
   "codemirror_mode": {
    "name": "ipython",
    "version": 3
   },
   "file_extension": ".py",
   "mimetype": "text/x-python",
   "name": "python",
   "nbconvert_exporter": "python",
   "pygments_lexer": "ipython3",
   "version": "3.11.1"
  },
  "orig_nbformat": 4,
  "vscode": {
   "interpreter": {
    "hash": "5868237a719c5308d34c8911a17794e6baa898a055f8bd5fbd9df195d03bb563"
   }
  }
 },
 "nbformat": 4,
 "nbformat_minor": 2
}
