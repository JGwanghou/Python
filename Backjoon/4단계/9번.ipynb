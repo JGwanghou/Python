{
 "cells": [
  {
   "cell_type": "code",
   "execution_count": 1,
   "metadata": {},
   "outputs": [
    {
     "data": {
      "text/plain": [
       "'\\n날짜: 2023/01/12\\n이름: 조광호\\n내용: 백준 4단계 9번\\n'"
      ]
     },
     "execution_count": 1,
     "metadata": {},
     "output_type": "execute_result"
    }
   ],
   "source": [
    "\"\"\"\n",
    "날짜: 2023/01/12\n",
    "이름: 조광호\n",
    "내용: 백준 4단계 9번\n",
    "\"\"\"\n",
    "\n",
    "# (1) 총합 : 350 , 평균 70%, 5명 중 2명 = 40%"
   ]
  },
  {
   "cell_type": "code",
   "execution_count": 6,
   "metadata": {},
   "outputs": [],
   "source": [
    "import sys\n",
    "\n",
    "testcase = int(sys.stdin.readline())\n",
    "\n",
    "for _ in range(testcase):\n",
    "    \n",
    "    score = list(map(int, sys.stdin.readline().split()))\n",
    "    avg = sum(score[1:]) / score[0]\n",
    "    cnt = 0\n",
    "    for i in score[1:]:\n",
    "        if i > avg:\n",
    "            cnt += 1\n",
    "        print(f'{cnt/score[0] * 100 :.3f}%')\n",
    "       \n",
    "\n",
    "    "
   ]
  }
 ],
 "metadata": {
  "kernelspec": {
   "display_name": "Python 3",
   "language": "python",
   "name": "python3"
  },
  "language_info": {
   "codemirror_mode": {
    "name": "ipython",
    "version": 3
   },
   "file_extension": ".py",
   "mimetype": "text/x-python",
   "name": "python",
   "nbconvert_exporter": "python",
   "pygments_lexer": "ipython3",
   "version": "3.11.1 (tags/v3.11.1:a7a450f, Dec  6 2022, 19:58:39) [MSC v.1934 64 bit (AMD64)]"
  },
  "orig_nbformat": 4,
  "vscode": {
   "interpreter": {
    "hash": "5868237a719c5308d34c8911a17794e6baa898a055f8bd5fbd9df195d03bb563"
   }
  }
 },
 "nbformat": 4,
 "nbformat_minor": 2
}
