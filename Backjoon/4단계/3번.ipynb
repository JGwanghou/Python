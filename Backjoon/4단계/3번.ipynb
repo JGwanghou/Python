{
 "cells": [
  {
   "cell_type": "code",
   "execution_count": 1,
   "metadata": {},
   "outputs": [
    {
     "data": {
      "text/plain": [
       "'\\n날짜 : 2023/01/06\\n이름 : 조광호\\n내용 : 백준 4단계 3번\\n'"
      ]
     },
     "execution_count": 1,
     "metadata": {},
     "output_type": "execute_result"
    }
   ],
   "source": [
    "\"\"\"\n",
    "날짜 : 2023/01/06\n",
    "이름 : 조광호\n",
    "내용 : 백준 4단계 3번\n",
    "\"\"\""
   ]
  },
  {
   "cell_type": "code",
   "execution_count": 1,
   "metadata": {},
   "outputs": [
    {
     "name": "stdout",
     "output_type": "stream",
     "text": [
      "7 35\n"
     ]
    }
   ],
   "source": [
    "import sys\n",
    "# N개의 정수\n",
    "n = int(sys.stdin.readline())\n",
    "numlist = list(map(int, sys.stdin.readline().split()))\n",
    "\n",
    "print(min(numlist),max(numlist))"
   ]
  }
 ],
 "metadata": {
  "kernelspec": {
   "display_name": "Python 3",
   "language": "python",
   "name": "python3"
  },
  "language_info": {
   "codemirror_mode": {
    "name": "ipython",
    "version": 3
   },
   "file_extension": ".py",
   "mimetype": "text/x-python",
   "name": "python",
   "nbconvert_exporter": "python",
   "pygments_lexer": "ipython3",
   "version": "3.11.1"
  },
  "orig_nbformat": 4,
  "vscode": {
   "interpreter": {
    "hash": "da5d8e0bf2691f2d2ed59143106c378b2c2455495724f71e365811448bbd3c35"
   }
  }
 },
 "nbformat": 4,
 "nbformat_minor": 2
}
