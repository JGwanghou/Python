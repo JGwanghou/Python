{
 "cells": [
  {
   "cell_type": "code",
   "execution_count": 1,
   "metadata": {},
   "outputs": [
    {
     "data": {
      "text/plain": [
       "'\\n날짜 : 2023/01/03\\n이름 : 조광호\\n내용 : 백준 4단계 2번\\n'"
      ]
     },
     "execution_count": 1,
     "metadata": {},
     "output_type": "execute_result"
    }
   ],
   "source": [
    "\"\"\"\n",
    "날짜 : 2023/01/03\n",
    "이름 : 조광호\n",
    "내용 : 백준 4단계 2번\n",
    "\"\"\""
   ]
  },
  {
   "cell_type": "code",
   "execution_count": 2,
   "metadata": {},
   "outputs": [
    {
     "name": "stdout",
     "output_type": "stream",
     "text": [
      "1\n",
      "4\n",
      "2\n",
      "3\n"
     ]
    }
   ],
   "source": [
    "import sys\n",
    "N, X = map(int, sys.stdin.readline().split()) # 10 5\n",
    "A = list(map(int, sys.stdin.readline().split())) # 1 10 4 9 2 3 8 5 7 6\n",
    "#sys.stdin.readline()\n",
    "\n",
    "for i in range(N):\n",
    "    if X > A[i]:\n",
    "        print(A[i], sep=\" \")\n",
    "              "
   ]
  }
 ],
 "metadata": {
  "kernelspec": {
   "display_name": "Python 3",
   "language": "python",
   "name": "python3"
  },
  "language_info": {
   "codemirror_mode": {
    "name": "ipython",
    "version": 3
   },
   "file_extension": ".py",
   "mimetype": "text/x-python",
   "name": "python",
   "nbconvert_exporter": "python",
   "pygments_lexer": "ipython3",
   "version": "3.11.1"
  },
  "orig_nbformat": 4,
  "vscode": {
   "interpreter": {
    "hash": "da5d8e0bf2691f2d2ed59143106c378b2c2455495724f71e365811448bbd3c35"
   }
  }
 },
 "nbformat": 4,
 "nbformat_minor": 2
}
