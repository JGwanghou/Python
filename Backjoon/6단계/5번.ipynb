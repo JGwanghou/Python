{
 "cells": [
  {
   "cell_type": "code",
   "execution_count": null,
   "metadata": {},
   "outputs": [],
   "source": [
    "# ['b','a','a','a']\n",
    "words = input().upper()\n",
    "# ['b', 'a']\n",
    "unique_words = list(set(words))\n",
    "\n",
    "count_list = []\n",
    "for i in unique_words:\n",
    "    cnt = words.count(i)\n",
    "    count_list.append(cnt)\n",
    "\n",
    "if count_list.count(max(count_list)) > 1:\n",
    "    print('?')\n",
    "else:\n",
    "    max_index = count_list.index(max(count_list))\n",
    "    print(unique_words[max_index])\n",
    "    "
   ]
  },
  {
   "cell_type": "code",
   "execution_count": 5,
   "metadata": {},
   "outputs": [
    {
     "name": "stdout",
     "output_type": "stream",
     "text": [
      "?\n"
     ]
    }
   ],
   "source": [
    "\n",
    "words = input().upper() # ['z','z','a']\n",
    "unique_words = list(set(words)) # ['z', 'a']\n",
    "\n",
    "cnt_list = []\n",
    "for i in unique_words:\n",
    "    cnt = words.count(i)\n",
    "    cnt_list.append(cnt)\n",
    "if cnt_list.count(max(cnt_list)) > 1:\n",
    "    print('?')\n",
    "else:\n",
    "    max_index = cnt_list.index(max(cnt_list))\n",
    "    print(unique_words[max_index])"
   ]
  }
 ],
 "metadata": {
  "kernelspec": {
   "display_name": "Python 3",
   "language": "python",
   "name": "python3"
  },
  "language_info": {
   "codemirror_mode": {
    "name": "ipython",
    "version": 3
   },
   "file_extension": ".py",
   "mimetype": "text/x-python",
   "name": "python",
   "nbconvert_exporter": "python",
   "pygments_lexer": "ipython3",
   "version": "3.11.1"
  },
  "orig_nbformat": 4,
  "vscode": {
   "interpreter": {
    "hash": "da5d8e0bf2691f2d2ed59143106c378b2c2455495724f71e365811448bbd3c35"
   }
  }
 },
 "nbformat": 4,
 "nbformat_minor": 2
}
