{
 "cells": [
  {
   "cell_type": "code",
   "execution_count": 8,
   "metadata": {},
   "outputs": [
    {
     "name": "stdout",
     "output_type": "stream",
     "text": [
      "AAABBBCCC\n",
      "/////HHHHHTTTTTPPPPP\n"
     ]
    }
   ],
   "source": [
    "n = int(input()) # 테스트 케이스\n",
    "\n",
    "for i in range(n): # 테스트 케이스 까지\n",
    "    num, s = input().split() # 문자열로 다 받고\n",
    "    text = '' # 문자열 변수 초기화\n",
    "    for j in s: \n",
    "        text += j * int(num)\n",
    "    print(text)\n",
    "    \n",
    "    "
   ]
  },
  {
   "cell_type": "code",
   "execution_count": 14,
   "metadata": {},
   "outputs": [
    {
     "name": "stdout",
     "output_type": "stream",
     "text": [
      "AAABBBCCC\n"
     ]
    }
   ],
   "source": [
    "t = int(input())\n",
    "for i in range(t):\n",
    "    num, s = input().split()\n",
    "    text = ''\n",
    "    for j in s:\n",
    "        text += int(num) * j\n",
    "        \n",
    "    print(text)"
   ]
  }
 ],
 "metadata": {
  "kernelspec": {
   "display_name": "Python 3",
   "language": "python",
   "name": "python3"
  },
  "language_info": {
   "codemirror_mode": {
    "name": "ipython",
    "version": 3
   },
   "file_extension": ".py",
   "mimetype": "text/x-python",
   "name": "python",
   "nbconvert_exporter": "python",
   "pygments_lexer": "ipython3",
   "version": "3.11.1 (tags/v3.11.1:a7a450f, Dec  6 2022, 19:58:39) [MSC v.1934 64 bit (AMD64)]"
  },
  "orig_nbformat": 4,
  "vscode": {
   "interpreter": {
    "hash": "da5d8e0bf2691f2d2ed59143106c378b2c2455495724f71e365811448bbd3c35"
   }
  }
 },
 "nbformat": 4,
 "nbformat_minor": 2
}
