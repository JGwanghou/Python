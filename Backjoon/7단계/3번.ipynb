{
 "cells": [
  {
   "cell_type": "code",
   "execution_count": null,
   "metadata": {},
   "outputs": [],
   "source": [
    "input_num = int(input())\n",
    "\n",
    "line = 0\n",
    "max_num = 0\n",
    "while input_num > max_num:\n",
    "    line += 1\n",
    "    max_num += line\n",
    "gap = max_num - input_num\n",
    "\n",
    "if line %2 == 0:\n",
    "    top = line - gap\n",
    "    under = gap + 1\n",
    "else:\n",
    "    top = gap + 1\n",
    "    under = line - gap\n",
    "print()"
   ]
  }
 ],
 "metadata": {
  "kernelspec": {
   "display_name": "Python 3",
   "language": "python",
   "name": "python3"
  },
  "language_info": {
   "name": "python",
   "version": "3.11.1 (tags/v3.11.1:a7a450f, Dec  6 2022, 19:58:39) [MSC v.1934 64 bit (AMD64)]"
  },
  "orig_nbformat": 4,
  "vscode": {
   "interpreter": {
    "hash": "da5d8e0bf2691f2d2ed59143106c378b2c2455495724f71e365811448bbd3c35"
   }
  }
 },
 "nbformat": 4,
 "nbformat_minor": 2
}
