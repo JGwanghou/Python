{
 "cells": [
  {
   "cell_type": "code",
   "execution_count": 16,
   "metadata": {},
   "outputs": [],
   "source": [
    "\"\"\"\n",
    "날짜 : 2023/01/06\n",
    "이름 : 조광호\n",
    "내용 : 파이썬 내장함수 실습하기\n",
    "\"\"\"\n",
    "import time\n",
    "import math\n",
    "import random"
   ]
  },
  {
   "cell_type": "code",
   "execution_count": 12,
   "metadata": {},
   "outputs": [
    {
     "name": "stdout",
     "output_type": "stream",
     "text": [
      "t1 :  1672987440.7730033\n",
      "t2 :  Fri Jan  6 15:44:00 2023\n",
      "2023년 01월 06일 15:44:00\n"
     ]
    }
   ],
   "source": [
    "# 시간날짜 함수\n",
    "t1 = time.time()\n",
    "print('t1 : ', t1)\n",
    "\n",
    "t2 = time.ctime()\n",
    "print('t2 : ', t2)\n",
    "\n",
    "now = time.localtime(time.time())\n",
    "year = time.strftime('%Y', now)\n",
    "month = time.strftime('%m', now)\n",
    "date = time.strftime('%d', now)\n",
    "hour = time.strftime('%H', now)\n",
    "min = time.strftime('%M', now)\n",
    "sec = time.strftime('%S', now)\n",
    "print('{}년 {}월 {}일 {}:{}:{}'.format(year, month, date, hour, min, sec))"
   ]
  },
  {
   "cell_type": "code",
   "execution_count": 15,
   "metadata": {},
   "outputs": [
    {
     "name": "stdout",
     "output_type": "stream",
     "text": [
      "rs1 : 2\n",
      "rs2 : 2\n",
      "rs3 : 1\n",
      "rs4 : 1\n",
      "rs5 : 1\n",
      "rs6 : 2\n"
     ]
    }
   ],
   "source": [
    "# 수학 함수\n",
    "rs1 = math.ceil(1.2)\n",
    "rs2 = math.ceil(1.8)\n",
    "rs3 = math.floor(1.2)\n",
    "rs4 = math.floor(1.8)\n",
    "rs5 = round(1.2)\n",
    "rs6 = round(1.8)\n",
    "print('rs1 :', rs1)\n",
    "print('rs2 :', rs2)\n",
    "print('rs3 :', rs3)\n",
    "print('rs4 :', rs4)\n",
    "print('rs5 :', rs5)\n",
    "print('rs6 :', rs6)"
   ]
  },
  {
   "cell_type": "code",
   "execution_count": 19,
   "metadata": {},
   "outputs": [
    {
     "name": "stdout",
     "output_type": "stream",
     "text": [
      "num1 :  0.08899154719857183\n",
      "num2 :  0.8899154719857183\n",
      "num3 :  1\n"
     ]
    }
   ],
   "source": [
    "# 랜덤 함수\n",
    "num1 = random.random()\n",
    "print('num1 : ', num1)\n",
    "\n",
    "num2 = num1 * 10\n",
    "print('num2 : ', num2)\n",
    "\n",
    "num3 = math.ceil(num2)\n",
    "print('num3 : ', num3)\n",
    "\n"
   ]
  }
 ],
 "metadata": {
  "kernelspec": {
   "display_name": "Python 3",
   "language": "python",
   "name": "python3"
  },
  "language_info": {
   "codemirror_mode": {
    "name": "ipython",
    "version": 3
   },
   "file_extension": ".py",
   "mimetype": "text/x-python",
   "name": "python",
   "nbconvert_exporter": "python",
   "pygments_lexer": "ipython3",
   "version": "3.11.1"
  },
  "orig_nbformat": 4,
  "vscode": {
   "interpreter": {
    "hash": "5868237a719c5308d34c8911a17794e6baa898a055f8bd5fbd9df195d03bb563"
   }
  }
 },
 "nbformat": 4,
 "nbformat_minor": 2
}
