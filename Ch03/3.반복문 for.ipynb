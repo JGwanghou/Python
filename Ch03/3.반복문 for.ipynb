{
 "cells": [
  {
   "cell_type": "code",
   "execution_count": 1,
   "metadata": {},
   "outputs": [
    {
     "data": {
      "text/plain": [
       "'\\n날짜 : 2023/01/03\\n이름 : 조광호\\n내용 : 파이썬 반복문(while) 실습하기\\n'"
      ]
     },
     "execution_count": 1,
     "metadata": {},
     "output_type": "execute_result"
    }
   ],
   "source": [
    "\"\"\"\n",
    "날짜 : 2023/01/03\n",
    "이름 : 조광호\n",
    "내용 : 파이썬 반복문(for) 실습하기\n",
    "\"\"\""
   ]
  },
  {
   "cell_type": "code",
   "execution_count": 10,
   "metadata": {},
   "outputs": [
    {
     "name": "stdout",
     "output_type": "stream",
     "text": [
      "i :  0\n",
      "i :  1\n",
      "i :  2\n",
      "i :  3\n",
      "i :  4\n",
      "j :  10\n",
      "j :  11\n",
      "j :  12\n",
      "j :  13\n",
      "j :  14\n",
      "j :  15\n",
      "j :  16\n",
      "j :  17\n",
      "j :  18\n",
      "j :  19\n",
      "k :  10\n",
      "k :  9\n",
      "k :  8\n",
      "k :  7\n",
      "k :  6\n",
      "k :  5\n",
      "k :  4\n",
      "k :  3\n",
      "k :  2\n",
      "k :  1\n",
      "1부터 10까지 합 :  0\n",
      "1부터 10까지 합 :  1\n",
      "1부터 10까지 합 :  3\n",
      "1부터 10까지 합 :  6\n",
      "1부터 10까지 합 :  10\n",
      "1부터 10까지 합 :  15\n",
      "1부터 10까지 합 :  21\n",
      "1부터 10까지 합 :  28\n",
      "1부터 10까지 합 :  36\n",
      "1부터 10까지 합 :  45\n",
      "1부터 10까지 합 :  55\n",
      "1부터 10까지 짝수 합 30\n"
     ]
    }
   ],
   "source": [
    "# for\n",
    "for i in range(5):\n",
    "    print('i : ', i)\n",
    "# 10에서 19까지\n",
    "for j in range(10, 20):\n",
    "    print('j : ', j)\n",
    "\n",
    "# 10부터 0까지 감소 (start , end , step)\n",
    "for k in range(10, 0, -1):\n",
    "    print('k : ', k)\n",
    "\n",
    "# 1부터 10까지 합\n",
    "total = 0\n",
    "\n",
    "for num in range(11):\n",
    "    total += num\n",
    "    print('1부터 10까지 합 : ', total)\n",
    "\n",
    "\n",
    "# 1부터 10까지 짝수 합\n",
    "total = 0\n",
    "\n",
    "for k in range(11):\n",
    "\n",
    "    if k % 2 == 0:\n",
    "        total += k\n",
    "\n",
    "print('1부터 10까지 짝수 합', total)\n",
    "\n"
   ]
  },
  {
   "cell_type": "code",
   "execution_count": 12,
   "metadata": {},
   "outputs": [
    {
     "name": "stdout",
     "output_type": "stream",
     "text": [
      "a :  0\n",
      "b :  0\n",
      "c :  0\n",
      "c :  1\n",
      "c :  2\n",
      "c :  3\n",
      "b :  1\n",
      "c :  0\n",
      "c :  1\n",
      "c :  2\n",
      "c :  3\n",
      "b :  2\n",
      "c :  0\n",
      "c :  1\n",
      "c :  2\n",
      "c :  3\n",
      "a :  1\n",
      "b :  0\n",
      "c :  0\n",
      "c :  1\n",
      "c :  2\n",
      "c :  3\n",
      "b :  1\n",
      "c :  0\n",
      "c :  1\n",
      "c :  2\n",
      "c :  3\n",
      "b :  2\n",
      "c :  0\n",
      "c :  1\n",
      "c :  2\n",
      "c :  3\n"
     ]
    }
   ],
   "source": [
    "# 중첩 for\n",
    "for a in range(2):\n",
    "    print('a : ', a)\n",
    "    for b in range(3):\n",
    "        print('b : ', b)\n",
    "        for c in range(4):\n",
    "            print('c : ',c)"
   ]
  },
  {
   "cell_type": "code",
   "execution_count": 14,
   "metadata": {},
   "outputs": [
    {
     "name": "stdout",
     "output_type": "stream",
     "text": [
      "2 단\n",
      "2 x 1 = 2\n",
      "2 x 2 = 4\n",
      "2 x 3 = 6\n",
      "2 x 4 = 8\n",
      "2 x 5 = 10\n",
      "2 x 6 = 12\n",
      "2 x 7 = 14\n",
      "2 x 8 = 16\n",
      "2 x 9 = 18\n",
      "3 단\n",
      "3 x 1 = 3\n",
      "3 x 2 = 6\n",
      "3 x 3 = 9\n",
      "3 x 4 = 12\n",
      "3 x 5 = 15\n",
      "3 x 6 = 18\n",
      "3 x 7 = 21\n",
      "3 x 8 = 24\n",
      "3 x 9 = 27\n",
      "4 단\n",
      "4 x 1 = 4\n",
      "4 x 2 = 8\n",
      "4 x 3 = 12\n",
      "4 x 4 = 16\n",
      "4 x 5 = 20\n",
      "4 x 6 = 24\n",
      "4 x 7 = 28\n",
      "4 x 8 = 32\n",
      "4 x 9 = 36\n",
      "5 단\n",
      "5 x 1 = 5\n",
      "5 x 2 = 10\n",
      "5 x 3 = 15\n",
      "5 x 4 = 20\n",
      "5 x 5 = 25\n",
      "5 x 6 = 30\n",
      "5 x 7 = 35\n",
      "5 x 8 = 40\n",
      "5 x 9 = 45\n",
      "6 단\n",
      "6 x 1 = 6\n",
      "6 x 2 = 12\n",
      "6 x 3 = 18\n",
      "6 x 4 = 24\n",
      "6 x 5 = 30\n",
      "6 x 6 = 36\n",
      "6 x 7 = 42\n",
      "6 x 8 = 48\n",
      "6 x 9 = 54\n",
      "7 단\n",
      "7 x 1 = 7\n",
      "7 x 2 = 14\n",
      "7 x 3 = 21\n",
      "7 x 4 = 28\n",
      "7 x 5 = 35\n",
      "7 x 6 = 42\n",
      "7 x 7 = 49\n",
      "7 x 8 = 56\n",
      "7 x 9 = 63\n",
      "8 단\n",
      "8 x 1 = 8\n",
      "8 x 2 = 16\n",
      "8 x 3 = 24\n",
      "8 x 4 = 32\n",
      "8 x 5 = 40\n",
      "8 x 6 = 48\n",
      "8 x 7 = 56\n",
      "8 x 8 = 64\n",
      "8 x 9 = 72\n",
      "9 단\n",
      "9 x 1 = 9\n",
      "9 x 2 = 18\n",
      "9 x 3 = 27\n",
      "9 x 4 = 36\n",
      "9 x 5 = 45\n",
      "9 x 6 = 54\n",
      "9 x 7 = 63\n",
      "9 x 8 = 72\n",
      "9 x 9 = 81\n"
     ]
    }
   ],
   "source": [
    "# 구구단 출력\n",
    "for a in range(2, 10):\n",
    "    print(a, '단')\n",
    "    for b in range(1, 10):\n",
    "        c = a * b\n",
    "\n",
    "        print('{} x {} = {}'.format(a, b, c))"
   ]
  },
  {
   "cell_type": "code",
   "execution_count": 16,
   "metadata": {},
   "outputs": [
    {
     "name": "stdout",
     "output_type": "stream",
     "text": [
      "□\n",
      "□□\n",
      "□□□\n",
      "□□□□\n",
      "□□□□□\n",
      "□□□□□□\n",
      "□□□□□□□\n",
      "□□□□□□□□\n",
      "□□□□□□□□□\n",
      "□□□□□□□□□□\n"
     ]
    }
   ],
   "source": [
    "# 별삼각형\n",
    "for a in range(1, 11):\n",
    "\n",
    "    for b in range(a):\n",
    "\n",
    "        print('□', end='')\n",
    "\n",
    "    print()"
   ]
  },
  {
   "cell_type": "code",
   "execution_count": 18,
   "metadata": {},
   "outputs": [
    {
     "name": "stdout",
     "output_type": "stream",
     "text": [
      "□\n",
      "□□\n",
      "□□□\n",
      "□□□□\n",
      "□□□□□\n",
      "□□□□□□\n",
      "□□□□□□□\n",
      "□□□□□□□□\n",
      "□□□□□□□□□\n",
      "□□□□□□□□□□\n"
     ]
    }
   ],
   "source": [
    "for a in range(1, 11):\n",
    "    print('□' * a)"
   ]
  },
  {
   "cell_type": "code",
   "execution_count": null,
   "metadata": {},
   "outputs": [],
   "source": []
  }
 ],
 "metadata": {
  "kernelspec": {
   "display_name": "Python 3",
   "language": "python",
   "name": "python3"
  },
  "language_info": {
   "codemirror_mode": {
    "name": "ipython",
    "version": 3
   },
   "file_extension": ".py",
   "mimetype": "text/x-python",
   "name": "python",
   "nbconvert_exporter": "python",
   "pygments_lexer": "ipython3",
   "version": "3.11.1"
  },
  "orig_nbformat": 4,
  "vscode": {
   "interpreter": {
    "hash": "5868237a719c5308d34c8911a17794e6baa898a055f8bd5fbd9df195d03bb563"
   }
  }
 },
 "nbformat": 4,
 "nbformat_minor": 2
}
