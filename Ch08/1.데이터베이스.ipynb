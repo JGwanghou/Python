{
 "cells": [
  {
   "cell_type": "code",
   "execution_count": 3,
   "metadata": {},
   "outputs": [],
   "source": [
    "\"\"\"\n",
    "날짜 : 2023/01/13\n",
    "이름 : 조광호\n",
    "내용 : 파이썬 데이터베이스 프로그래밍 실습하기\n",
    "\"\"\"\n",
    "import pymysql"
   ]
  },
  {
   "cell_type": "code",
   "execution_count": null,
   "metadata": {},
   "outputs": [],
   "source": [
    "# Insert 실습\n",
    "# 데이터베이스 접속\n",
    "conn = pymysql.connect(host='127.0.0.1',\n",
    "                        user='root',\n",
    "                        password='1234', \n",
    "                        db='java2db', \n",
    "                        charset='utf8')\n",
    "\n",
    "# SQL 실행객체\n",
    "cur = conn.cursor()\n",
    "\n",
    "# SQL 실행\n",
    "sql = \"insert into `user3` values ('a401', '노왕짱', '010-9253-9512', '26')\"\n",
    "cur.execute(sql)\n",
    "conn.commit()\n",
    "\n",
    "# 데이터베이스 종료\n",
    "conn.close()\n",
    "print('Insert 완료...')"
   ]
  },
  {
   "cell_type": "code",
   "execution_count": null,
   "metadata": {},
   "outputs": [],
   "source": [
    "# Update 실습\n",
    "# 데이터베이스 접속\n",
    "conn = pymysql.connect(host='127.0.0.1',\n",
    "                        user='root',\n",
    "                        password='1234', \n",
    "                        db='java2db', \n",
    "                        charset='utf8')\n",
    "\n",
    "# SQL 실행객체\n",
    "cur = conn.cursor()\n",
    "\n",
    "# SQL 실행\n",
    "sql = \"UPDATE `user3` SET \"\n",
    "sql += \"`name`='홍길동',\"\n",
    "sql += \"`hp`='010-2939-2222',\"\n",
    "sql += \"`age`=25 \"\n",
    "sql += \"WHERE `uid`='a301'\"\n",
    "\n",
    "cur.execute(sql)\n",
    "conn.commit()\n",
    "\n",
    "# 데이터베이스 종료\n",
    "conn.close()\n",
    "print('update 완료...')"
   ]
  },
  {
   "cell_type": "code",
   "execution_count": null,
   "metadata": {},
   "outputs": [],
   "source": [
    "# DELETE 실습\n",
    "# 데이터베이스 접속\n",
    "conn = pymysql.connect(host='127.0.0.1',\n",
    "                        user='root',\n",
    "                        password='1234', \n",
    "                        db='java2db', \n",
    "                        charset='utf8')\n",
    "\n",
    "# SQL 실행객체\n",
    "cur = conn.cursor()\n",
    "\n",
    "# SQL 실행\n",
    "cur.execute(\"delete from `user3` where `uid` = 'a301'\")\n",
    "conn.commit()\n",
    "\n",
    "# 데이터베이스 종료\n",
    "conn.close()\n",
    "print('Delete 완료...')"
   ]
  },
  {
   "cell_type": "code",
   "execution_count": 12,
   "metadata": {},
   "outputs": [
    {
     "name": "stdout",
     "output_type": "stream",
     "text": [
      "--------------------\n",
      "아이디 :  a101\n",
      "이름 :  김유신\n",
      "휴대폰 :  010-1234-1001\n",
      "나이 :  25\n",
      "-------------------\n",
      "--------------------\n",
      "아이디 :  a102\n",
      "이름 :  김춘추\n",
      "휴대폰 :  010-1234-1002\n",
      "나이 :  23\n",
      "-------------------\n",
      "--------------------\n",
      "아이디 :  a103\n",
      "이름 :  장보고\n",
      "휴대폰 :  010-1234-1003\n",
      "나이 :  33\n",
      "-------------------\n",
      "--------------------\n",
      "아이디 :  a104\n",
      "이름 :  강감찬\n",
      "휴대폰 :  010-1234-1004\n",
      "나이 :  43\n",
      "-------------------\n",
      "--------------------\n",
      "아이디 :  a105\n",
      "이름 :  이순신\n",
      "휴대폰 :  010-1234-1005\n",
      "나이 :  53\n",
      "-------------------\n",
      "--------------------\n",
      "아이디 :  a201\n",
      "이름 :  김유신\n",
      "휴대폰 :  None\n",
      "나이 :  25\n",
      "-------------------\n",
      "--------------------\n",
      "아이디 :  a301\n",
      "이름 :  킹왕짱\n",
      "휴대폰 :  010-9234-9512\n",
      "나이 :  15\n",
      "-------------------\n",
      "select 완료...\n"
     ]
    }
   ],
   "source": [
    "# select 실습\n",
    "# 데이터베이스 접속\n",
    "conn = pymysql.connect(host='127.0.0.1',\n",
    "                        user='root',\n",
    "                        password='1234', \n",
    "                        db='java2db', \n",
    "                        charset='utf8')\n",
    "\n",
    "# SQL 실행객체\n",
    "cur = conn.cursor()\n",
    "\n",
    "# SQL 실행\n",
    "cur.execute(\"select * from `user3`\")\n",
    "conn.commit()\n",
    "# 결과출력\n",
    "users = []\n",
    "\n",
    "for row in cur.fetchall():\n",
    "    print('--------------------')\n",
    "    print('아이디 : ', row[0])\n",
    "    print('이름 : ', row[1])\n",
    "    print('휴대폰 : ', row[2])\n",
    "    print('나이 : ', row[3])\n",
    "    print('-------------------')\n",
    "\n",
    "# 데이터베이스 종료\n",
    "conn.close()\n",
    "print('select 완료...')"
   ]
  }
 ],
 "metadata": {
  "kernelspec": {
   "display_name": "Python 3",
   "language": "python",
   "name": "python3"
  },
  "language_info": {
   "codemirror_mode": {
    "name": "ipython",
    "version": 3
   },
   "file_extension": ".py",
   "mimetype": "text/x-python",
   "name": "python",
   "nbconvert_exporter": "python",
   "pygments_lexer": "ipython3",
   "version": "3.11.1 (tags/v3.11.1:a7a450f, Dec  6 2022, 19:58:39) [MSC v.1934 64 bit (AMD64)]"
  },
  "orig_nbformat": 4,
  "vscode": {
   "interpreter": {
    "hash": "5868237a719c5308d34c8911a17794e6baa898a055f8bd5fbd9df195d03bb563"
   }
  }
 },
 "nbformat": 4,
 "nbformat_minor": 2
}
